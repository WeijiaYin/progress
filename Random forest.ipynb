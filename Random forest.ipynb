{
 "cells": [
  {
   "cell_type": "code",
   "execution_count": 11,
   "metadata": {},
   "outputs": [],
   "source": [
    "import pandas as pd\n",
    "import numpy as np\n",
    "from sklearn.ensemble import RandomForestClassifier\n",
    "from sklearn.model_selection import train_test_split\n",
    "from sklearn.model_selection import GridSearchCV\n",
    "from sklearn.metrics import accuracy_score\n",
    "\n",
    "import datetime\n",
    "import os\n",
    "\n",
    "import warnings\n",
    "warnings.filterwarnings('ignore')"
   ]
  },
  {
   "cell_type": "code",
   "execution_count": 2,
   "metadata": {},
   "outputs": [
    {
     "data": {
      "text/html": [
       "<div>\n",
       "<style scoped>\n",
       "    .dataframe tbody tr th:only-of-type {\n",
       "        vertical-align: middle;\n",
       "    }\n",
       "\n",
       "    .dataframe tbody tr th {\n",
       "        vertical-align: top;\n",
       "    }\n",
       "\n",
       "    .dataframe thead th {\n",
       "        text-align: right;\n",
       "    }\n",
       "</style>\n",
       "<table border=\"1\" class=\"dataframe\">\n",
       "  <thead>\n",
       "    <tr style=\"text-align: right;\">\n",
       "      <th></th>\n",
       "      <th>Data</th>\n",
       "      <th>Otwarcie</th>\n",
       "      <th>Zamknięcie</th>\n",
       "      <th>Maks</th>\n",
       "      <th>Min</th>\n",
       "      <th>Obrót (mln. zł)</th>\n",
       "      <th>Zmiana (%)</th>\n",
       "    </tr>\n",
       "  </thead>\n",
       "  <tbody>\n",
       "    <tr>\n",
       "      <th>0</th>\n",
       "      <td>2010-10-01</td>\n",
       "      <td>17.16</td>\n",
       "      <td>16.98</td>\n",
       "      <td>17.16</td>\n",
       "      <td>16.85</td>\n",
       "      <td>30.36</td>\n",
       "      <td>0.00</td>\n",
       "    </tr>\n",
       "    <tr>\n",
       "      <th>1</th>\n",
       "      <td>2010-10-04</td>\n",
       "      <td>16.98</td>\n",
       "      <td>17.05</td>\n",
       "      <td>17.07</td>\n",
       "      <td>16.73</td>\n",
       "      <td>47.29</td>\n",
       "      <td>0.43</td>\n",
       "    </tr>\n",
       "    <tr>\n",
       "      <th>2</th>\n",
       "      <td>2010-10-05</td>\n",
       "      <td>16.99</td>\n",
       "      <td>16.82</td>\n",
       "      <td>17.00</td>\n",
       "      <td>16.82</td>\n",
       "      <td>36.29</td>\n",
       "      <td>-1.38</td>\n",
       "    </tr>\n",
       "    <tr>\n",
       "      <th>3</th>\n",
       "      <td>2010-10-06</td>\n",
       "      <td>16.87</td>\n",
       "      <td>16.50</td>\n",
       "      <td>16.93</td>\n",
       "      <td>16.50</td>\n",
       "      <td>48.64</td>\n",
       "      <td>-1.88</td>\n",
       "    </tr>\n",
       "    <tr>\n",
       "      <th>4</th>\n",
       "      <td>2010-10-07</td>\n",
       "      <td>15.72</td>\n",
       "      <td>15.84</td>\n",
       "      <td>16.05</td>\n",
       "      <td>15.67</td>\n",
       "      <td>271.00</td>\n",
       "      <td>-4.00</td>\n",
       "    </tr>\n",
       "  </tbody>\n",
       "</table>\n",
       "</div>"
      ],
      "text/plain": [
       "        Data  Otwarcie  Zamknięcie   Maks    Min  Obrót (mln. zł)  Zmiana (%)\n",
       "0 2010-10-01     17.16       16.98  17.16  16.85            30.36        0.00\n",
       "1 2010-10-04     16.98       17.05  17.07  16.73            47.29        0.43\n",
       "2 2010-10-05     16.99       16.82  17.00  16.82            36.29       -1.38\n",
       "3 2010-10-06     16.87       16.50  16.93  16.50            48.64       -1.88\n",
       "4 2010-10-07     15.72       15.84  16.05  15.67           271.00       -4.00"
      ]
     },
     "execution_count": 2,
     "metadata": {},
     "output_type": "execute_result"
    }
   ],
   "source": [
    "df = pd.read_csv('PGE_SA.csv').fillna(0)\n",
    "df = df.sort_index(ascending=False)\n",
    "df.index = range(len(df))\n",
    "df['Data'] = pd.to_datetime(df['Data'])\n",
    "df = df.rename(columns={'Maks.':'Maks'})\n",
    "df = df.rename(columns={'Min.':'Min'})\n",
    "df.head()"
   ]
  },
  {
   "cell_type": "code",
   "execution_count": 6,
   "metadata": {},
   "outputs": [
    {
     "data": {
      "text/plain": [
       "GridSearchCV(cv=5, estimator=RandomForestClassifier(),\n",
       "             param_grid={'criterion': ('gini', 'entropy'),\n",
       "                         'max_depth': (3, 5, 7, 9),\n",
       "                         'min_samples_leaf': (3, 5, 8, 10)})"
      ]
     },
     "execution_count": 6,
     "metadata": {},
     "output_type": "execute_result"
    }
   ],
   "source": [
    "dayfeature = 150\n",
    "featurenum = 4*dayfeature\n",
    "x = np.zeros((df.shape[0]-dayfeature, featurenum+1))\n",
    "y = np.zeros((df.shape[0]-dayfeature))\n",
    "\n",
    "for i in range(0, df.shape[0]-dayfeature):\n",
    "    x[i, 0:featurenum] = np.array(df[i:i+dayfeature][['Otwarcie', 'Zamknięcie', 'Maks', 'Min']]).reshape((1, featurenum))\n",
    "    x[i, featurenum] = df.iloc[i+dayfeature]['Otwarcie']\n",
    "    \n",
    "for i in range(0, df.shape[0]-dayfeature):\n",
    "    if df.iloc[i+dayfeature]['Zamknięcie']>=df.iloc[i+dayfeature]['Otwarcie']:\n",
    "        y[i]=1\n",
    "    else:\n",
    "        y[i]=0\n",
    "\n",
    "x_train, x_test, y_train, y_test = train_test_split(x, y, test_size=0.30, random_state=42)\n",
    "params={'criterion':('gini','entropy'), 'max_depth':(3,5,7,9), 'min_samples_leaf':(3,5,8,10)}\n",
    "\n",
    "rf = RandomForestClassifier()\n",
    "clf = GridSearchCV(rf, param_grid=params, cv=5)\n",
    "clf.fit(x_train, y_train)"
   ]
  },
  {
   "cell_type": "code",
   "execution_count": 7,
   "metadata": {},
   "outputs": [
    {
     "data": {
      "text/plain": [
       "{'criterion': 'gini', 'max_depth': 7, 'min_samples_leaf': 8}"
      ]
     },
     "execution_count": 7,
     "metadata": {},
     "output_type": "execute_result"
    }
   ],
   "source": [
    "clf.best_params_"
   ]
  },
  {
   "cell_type": "code",
   "execution_count": 8,
   "metadata": {},
   "outputs": [
    {
     "data": {
      "text/plain": [
       "RandomForestClassifier(max_depth=7, min_samples_leaf=8, random_state=0)"
      ]
     },
     "execution_count": 8,
     "metadata": {},
     "output_type": "execute_result"
    }
   ],
   "source": [
    "model = RandomForestClassifier(criterion = 'gini', max_depth=7, random_state=0, min_samples_leaf=8)\n",
    "model.fit(x_train, y_train)"
   ]
  },
  {
   "cell_type": "code",
   "execution_count": 9,
   "metadata": {},
   "outputs": [
    {
     "name": "stdout",
     "output_type": "stream",
     "text": [
      "random forest classifier accuacy:\n",
      "0.4859550561797753\n"
     ]
    }
   ],
   "source": [
    "result = np.mean(y_test == clf.predict(x_test))\n",
    "print(\"random forest classifier accuacy:\")\n",
    "print(result)"
   ]
  },
  {
   "cell_type": "code",
   "execution_count": 12,
   "metadata": {},
   "outputs": [
    {
     "data": {
      "text/plain": [
       "0.4859550561797753"
      ]
     },
     "execution_count": 12,
     "metadata": {},
     "output_type": "execute_result"
    }
   ],
   "source": [
    "accuracy_score(y_test, clf.predict(x_test))"
   ]
  },
  {
   "cell_type": "code",
   "execution_count": null,
   "metadata": {},
   "outputs": [],
   "source": []
  }
 ],
 "metadata": {
  "kernelspec": {
   "display_name": "Python 3",
   "language": "python",
   "name": "python3"
  },
  "language_info": {
   "codemirror_mode": {
    "name": "ipython",
    "version": 3
   },
   "file_extension": ".py",
   "mimetype": "text/x-python",
   "name": "python",
   "nbconvert_exporter": "python",
   "pygments_lexer": "ipython3",
   "version": "3.8.3"
  }
 },
 "nbformat": 4,
 "nbformat_minor": 5
}
